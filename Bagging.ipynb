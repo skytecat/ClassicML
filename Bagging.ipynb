{
 "cells": [
  {
   "cell_type": "markdown",
   "metadata": {},
   "source": [
    "В программе ниже сформирована обучающая выборка x_train, y_train и тестовая x_test, y_test для задачи многоклассовой классификации с метками классов Y={0,1,2}. \n",
    "\n",
    "Выполните обучение алгоритма random forest на выборке x_train, y_train для классификации образов. Для этого воспользуйтесь классом RandomForestClassifier пакета Scikit-Learn следующим образом:\n",
    "\n",
    "`clf = RandomForestClassifier(max_depth=8, n_estimators=10)`\n",
    "\n",
    "Непосредственное построение (обучение) решающего дерева выполните с помощью метода fit. \n",
    "\n",
    "Используя метод predict класса RandomForestClassifier выполните классификацию объектов тестовой выборки x_test. Результат (массив NumPy с метками классов) сохраните в переменной ``predict``.\n",
    "\n",
    "Вычислите показатель качества accuracy по формуле:\n",
    "\n",
    "$$accuracy = \\frac{1}{n} \\sum_ {i=1}^n [a(x_i) = y_i] $$\n",
    "\n",
    "и сохраните в переменной ``Q``.\n"
   ]
  },
  {
   "cell_type": "code",
   "execution_count": 1,
   "metadata": {},
   "outputs": [],
   "source": [
    "import numpy as np\n",
    "from sklearn.ensemble import RandomForestClassifier\n",
    "from sklearn.model_selection import train_test_split\n",
    "\n",
    "np.random.seed(0)\n",
    "n_feature = 5\n",
    "\n",
    "# исходные параметры для формирования образов обучающей выборки\n",
    "r1 = 0.7\n",
    "D1 = 3.0\n",
    "mean1 = [3, 7, -2, 4, 6]\n",
    "V1 = [[D1 * r1 ** abs(i-j) for j in range(n_feature)] for i in range(n_feature)]\n",
    "\n",
    "r2 = 0.5\n",
    "D2 = 2.0\n",
    "mean2 = [3, 7, -2, 4, 6] + np.array(range(1, n_feature+1)) * 0.5\n",
    "V2 = [[D2 * r2 ** abs(i-j) for j in range(n_feature)] for i in range(n_feature)]\n",
    "\n",
    "r3 = -0.7\n",
    "D3 = 1.0\n",
    "mean3 = [3, 7, -2, 4, 6] + np.array(range(1, n_feature+1)) * -0.5\n",
    "V3 = [[D3 * r3 ** abs(i-j) for j in range(n_feature)] for i in range(n_feature)]\n",
    "\n",
    "# моделирование обучающей выборки\n",
    "N1, N2, N3 = 1000, 1200, 900\n",
    "x1 = np.random.multivariate_normal(mean1, V1, N1).T\n",
    "x2 = np.random.multivariate_normal(mean2, V2, N2).T\n",
    "x3 = np.random.multivariate_normal(mean3, V3, N3).T\n",
    "\n",
    "data_x = np.hstack([x1, x2, x3]).T\n",
    "data_y = np.hstack([np.zeros(N1), np.ones(N2), np.ones(N3) * 2])\n",
    "\n",
    "x_train, x_test, y_train, y_test = train_test_split(data_x, data_y, random_state=123,test_size=0.3, shuffle=True)\n",
    "\n",
    "\n",
    "clf = RandomForestClassifier(max_depth=8, n_estimators=10)\n",
    "clf.fit(x_train, y_train)\n",
    "\n",
    "predict = clf.predict(x_test)\n",
    "\n",
    "Q = np.mean(predict == y_test)"
   ]
  }
 ],
 "metadata": {
  "kernelspec": {
   "display_name": "Python 3",
   "language": "python",
   "name": "python3"
  },
  "language_info": {
   "codemirror_mode": {
    "name": "ipython",
    "version": 3
   },
   "file_extension": ".py",
   "mimetype": "text/x-python",
   "name": "python",
   "nbconvert_exporter": "python",
   "pygments_lexer": "ipython3",
   "version": "3.10.0"
  }
 },
 "nbformat": 4,
 "nbformat_minor": 2
}
